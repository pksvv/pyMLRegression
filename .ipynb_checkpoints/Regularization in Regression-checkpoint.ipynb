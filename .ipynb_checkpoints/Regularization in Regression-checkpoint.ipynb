{
 "cells": [
  {
   "cell_type": "markdown",
   "metadata": {},
   "source": [
    "## Regularization in Regression\n",
    "\n",
    "* **Regularization - is a technique that adds the penalty as model complexity increases.**\n",
    "\n",
    "\n",
    "* When model complexity will increase, it will lead to overfitting.\n",
    "\n",
    "\n",
    "* Overfitting happens when model learns signal as well as noise in the data.\n",
    "\n",
    "\n",
    "* So an overfit model will always perform very well on the training data and underperform on testing / actual data.\n",
    "\n",
    "\n",
    "* In order to create parsimonious (less complex) model, we employ regularization techniques.\n",
    "\n",
    "\n",
    "    1. L1-Regularization or Lasso\n",
    "\n",
    "\n",
    "    2. L2-Regularization or Ridge\n",
    "    \n",
    "    \n",
    "    3. Elasticnet Regularization"
   ]
  },
  {
   "cell_type": "markdown",
   "metadata": {},
   "source": [
    "### Build a regression model which will try to predict unemployment within an economy"
   ]
  },
  {
   "cell_type": "markdown",
   "metadata": {},
   "source": [
    "### Import Libraries"
   ]
  },
  {
   "cell_type": "code",
   "execution_count": 1,
   "metadata": {},
   "outputs": [
    {
     "name": "stderr",
     "output_type": "stream",
     "text": [
      "<frozen importlib._bootstrap>:219: RuntimeWarning: numpy.ufunc size changed, may indicate binary incompatibility. Expected 192 from C header, got 216 from PyObject\n"
     ]
    }
   ],
   "source": [
    "import pandas as pd\n",
    "import numpy as np\n",
    "from sklearn.model_selection import train_test_split\n",
    "from sklearn.linear_model import LinearRegression, Ridge, Lasso, ElasticNet\n",
    "from sklearn.metrics import mean_absolute_error, mean_squared_error, r2_score"
   ]
  },
  {
   "cell_type": "code",
   "execution_count": 2,
   "metadata": {},
   "outputs": [
    {
     "name": "stdout",
     "output_type": "stream",
     "text": [
      "\u001b[31mEcommerce Customers\u001b[m\u001b[m*    \u001b[31mgdp.csv\u001b[m\u001b[m*                \u001b[31mshiller.csv\u001b[m\u001b[m*\r\n",
      "\u001b[31mUSA_Housing.csv\u001b[m\u001b[m*        \u001b[31mginzberg.csv\u001b[m\u001b[m*           \u001b[31munemployment-macro.csv\u001b[m\u001b[m*\r\n",
      "\u001b[31meconomics.csv\u001b[m\u001b[m*          \u001b[31mmonthly-hpi.csv\u001b[m\u001b[m*\r\n",
      "\u001b[31mfed_funds.csv\u001b[m\u001b[m*          \u001b[31mseasons.csv\u001b[m\u001b[m*\r\n"
     ]
    }
   ],
   "source": [
    "ls dataset/"
   ]
  },
  {
   "cell_type": "code",
   "execution_count": 3,
   "metadata": {},
   "outputs": [
    {
     "data": {
      "text/html": [
       "<div>\n",
       "<style scoped>\n",
       "    .dataframe tbody tr th:only-of-type {\n",
       "        vertical-align: middle;\n",
       "    }\n",
       "\n",
       "    .dataframe tbody tr th {\n",
       "        vertical-align: top;\n",
       "    }\n",
       "\n",
       "    .dataframe thead th {\n",
       "        text-align: right;\n",
       "    }\n",
       "</style>\n",
       "<table border=\"1\" class=\"dataframe\">\n",
       "  <thead>\n",
       "    <tr style=\"text-align: right;\">\n",
       "      <th></th>\n",
       "      <th>date</th>\n",
       "      <th>pce</th>\n",
       "      <th>pop</th>\n",
       "      <th>psavert</th>\n",
       "      <th>uempmed</th>\n",
       "      <th>unemploy</th>\n",
       "    </tr>\n",
       "  </thead>\n",
       "  <tbody>\n",
       "    <tr>\n",
       "      <th>0</th>\n",
       "      <td>1967-07-01</td>\n",
       "      <td>507.4</td>\n",
       "      <td>198712</td>\n",
       "      <td>12.5</td>\n",
       "      <td>4.5</td>\n",
       "      <td>2944</td>\n",
       "    </tr>\n",
       "    <tr>\n",
       "      <th>1</th>\n",
       "      <td>1967-08-01</td>\n",
       "      <td>510.5</td>\n",
       "      <td>198911</td>\n",
       "      <td>12.5</td>\n",
       "      <td>4.7</td>\n",
       "      <td>2945</td>\n",
       "    </tr>\n",
       "    <tr>\n",
       "      <th>2</th>\n",
       "      <td>1967-09-01</td>\n",
       "      <td>516.3</td>\n",
       "      <td>199113</td>\n",
       "      <td>11.7</td>\n",
       "      <td>4.6</td>\n",
       "      <td>2958</td>\n",
       "    </tr>\n",
       "    <tr>\n",
       "      <th>3</th>\n",
       "      <td>1967-10-01</td>\n",
       "      <td>512.9</td>\n",
       "      <td>199311</td>\n",
       "      <td>12.5</td>\n",
       "      <td>4.9</td>\n",
       "      <td>3143</td>\n",
       "    </tr>\n",
       "    <tr>\n",
       "      <th>4</th>\n",
       "      <td>1967-11-01</td>\n",
       "      <td>518.1</td>\n",
       "      <td>199498</td>\n",
       "      <td>12.5</td>\n",
       "      <td>4.7</td>\n",
       "      <td>3066</td>\n",
       "    </tr>\n",
       "  </tbody>\n",
       "</table>\n",
       "</div>"
      ],
      "text/plain": [
       "         date    pce     pop  psavert  uempmed  unemploy\n",
       "0  1967-07-01  507.4  198712     12.5      4.5      2944\n",
       "1  1967-08-01  510.5  198911     12.5      4.7      2945\n",
       "2  1967-09-01  516.3  199113     11.7      4.6      2958\n",
       "3  1967-10-01  512.9  199311     12.5      4.9      3143\n",
       "4  1967-11-01  518.1  199498     12.5      4.7      3066"
      ]
     },
     "execution_count": 3,
     "metadata": {},
     "output_type": "execute_result"
    }
   ],
   "source": [
    "df = pd.read_csv('dataset/economics.csv')\n",
    "\n",
    "df.head()"
   ]
  },
  {
   "cell_type": "code",
   "execution_count": 4,
   "metadata": {},
   "outputs": [
    {
     "data": {
      "text/plain": [
       "(574, 6)"
      ]
     },
     "execution_count": 4,
     "metadata": {},
     "output_type": "execute_result"
    }
   ],
   "source": [
    "df.shape"
   ]
  },
  {
   "cell_type": "markdown",
   "metadata": {},
   "source": [
    "### Data Dictionary\n",
    "\n",
    "* psavert - personal saving rate\n",
    "\n",
    "\n",
    "* pce - personal consumption expenditure, USD Billions\n",
    "\n",
    "\n",
    "* uempmed - median duration of unemployment, weeks\n",
    "\n",
    "\n",
    "* unemploy - number of unemployed (thousands)\n",
    "\n",
    "\n",
    "* pop - Population in thousands"
   ]
  },
  {
   "cell_type": "code",
   "execution_count": 5,
   "metadata": {},
   "outputs": [
    {
     "data": {
      "text/plain": [
       "Index(['date', 'pce', 'pop', 'psavert', 'uempmed', 'unemploy'], dtype='object')"
      ]
     },
     "execution_count": 5,
     "metadata": {},
     "output_type": "execute_result"
    }
   ],
   "source": [
    "df.columns"
   ]
  },
  {
   "cell_type": "code",
   "execution_count": 9,
   "metadata": {},
   "outputs": [
    {
     "data": {
      "text/html": [
       "<div>\n",
       "<style scoped>\n",
       "    .dataframe tbody tr th:only-of-type {\n",
       "        vertical-align: middle;\n",
       "    }\n",
       "\n",
       "    .dataframe tbody tr th {\n",
       "        vertical-align: top;\n",
       "    }\n",
       "\n",
       "    .dataframe thead th {\n",
       "        text-align: right;\n",
       "    }\n",
       "</style>\n",
       "<table border=\"1\" class=\"dataframe\">\n",
       "  <thead>\n",
       "    <tr style=\"text-align: right;\">\n",
       "      <th></th>\n",
       "      <th>pce</th>\n",
       "      <th>pop</th>\n",
       "      <th>psavert</th>\n",
       "      <th>uempmed</th>\n",
       "      <th>unemploy</th>\n",
       "    </tr>\n",
       "  </thead>\n",
       "  <tbody>\n",
       "    <tr>\n",
       "      <th>count</th>\n",
       "      <td>574.000000</td>\n",
       "      <td>574.000000</td>\n",
       "      <td>574.000000</td>\n",
       "      <td>574.000000</td>\n",
       "      <td>574.000000</td>\n",
       "    </tr>\n",
       "    <tr>\n",
       "      <th>mean</th>\n",
       "      <td>4843.510453</td>\n",
       "      <td>257189.381533</td>\n",
       "      <td>7.936585</td>\n",
       "      <td>8.610105</td>\n",
       "      <td>7771.557491</td>\n",
       "    </tr>\n",
       "    <tr>\n",
       "      <th>std</th>\n",
       "      <td>3579.287206</td>\n",
       "      <td>36730.801593</td>\n",
       "      <td>3.124394</td>\n",
       "      <td>4.108112</td>\n",
       "      <td>2641.960571</td>\n",
       "    </tr>\n",
       "    <tr>\n",
       "      <th>min</th>\n",
       "      <td>507.400000</td>\n",
       "      <td>198712.000000</td>\n",
       "      <td>1.900000</td>\n",
       "      <td>4.000000</td>\n",
       "      <td>2685.000000</td>\n",
       "    </tr>\n",
       "    <tr>\n",
       "      <th>25%</th>\n",
       "      <td>1582.225000</td>\n",
       "      <td>224896.000000</td>\n",
       "      <td>5.500000</td>\n",
       "      <td>6.000000</td>\n",
       "      <td>6284.000000</td>\n",
       "    </tr>\n",
       "    <tr>\n",
       "      <th>50%</th>\n",
       "      <td>3953.550000</td>\n",
       "      <td>253060.000000</td>\n",
       "      <td>7.700000</td>\n",
       "      <td>7.500000</td>\n",
       "      <td>7494.000000</td>\n",
       "    </tr>\n",
       "    <tr>\n",
       "      <th>75%</th>\n",
       "      <td>7667.325000</td>\n",
       "      <td>290290.750000</td>\n",
       "      <td>10.500000</td>\n",
       "      <td>9.100000</td>\n",
       "      <td>8691.000000</td>\n",
       "    </tr>\n",
       "    <tr>\n",
       "      <th>max</th>\n",
       "      <td>12161.500000</td>\n",
       "      <td>320887.000000</td>\n",
       "      <td>17.000000</td>\n",
       "      <td>25.200000</td>\n",
       "      <td>15352.000000</td>\n",
       "    </tr>\n",
       "  </tbody>\n",
       "</table>\n",
       "</div>"
      ],
      "text/plain": [
       "                pce            pop     psavert     uempmed      unemploy\n",
       "count    574.000000     574.000000  574.000000  574.000000    574.000000\n",
       "mean    4843.510453  257189.381533    7.936585    8.610105   7771.557491\n",
       "std     3579.287206   36730.801593    3.124394    4.108112   2641.960571\n",
       "min      507.400000  198712.000000    1.900000    4.000000   2685.000000\n",
       "25%     1582.225000  224896.000000    5.500000    6.000000   6284.000000\n",
       "50%     3953.550000  253060.000000    7.700000    7.500000   7494.000000\n",
       "75%     7667.325000  290290.750000   10.500000    9.100000   8691.000000\n",
       "max    12161.500000  320887.000000   17.000000   25.200000  15352.000000"
      ]
     },
     "execution_count": 9,
     "metadata": {},
     "output_type": "execute_result"
    }
   ],
   "source": [
    "df.describe()"
   ]
  },
  {
   "cell_type": "code",
   "execution_count": 7,
   "metadata": {},
   "outputs": [
    {
     "name": "stdout",
     "output_type": "stream",
     "text": [
      "<class 'pandas.core.frame.DataFrame'>\n",
      "RangeIndex: 574 entries, 0 to 573\n",
      "Data columns (total 6 columns):\n",
      " #   Column    Non-Null Count  Dtype  \n",
      "---  ------    --------------  -----  \n",
      " 0   date      574 non-null    object \n",
      " 1   pce       574 non-null    float64\n",
      " 2   pop       574 non-null    int64  \n",
      " 3   psavert   574 non-null    float64\n",
      " 4   uempmed   574 non-null    float64\n",
      " 5   unemploy  574 non-null    int64  \n",
      "dtypes: float64(3), int64(2), object(1)\n",
      "memory usage: 27.0+ KB\n"
     ]
    }
   ],
   "source": [
    "df.info()"
   ]
  },
  {
   "cell_type": "code",
   "execution_count": 8,
   "metadata": {},
   "outputs": [],
   "source": [
    "target = df['unemploy']\n",
    "\n",
    "feature_cols = ['pce', 'pop', 'psavert', 'uempmed']"
   ]
  },
  {
   "cell_type": "code",
   "execution_count": 10,
   "metadata": {},
   "outputs": [],
   "source": [
    "df[feature_cols] = df[feature_cols]/df[feature_cols].max()"
   ]
  },
  {
   "cell_type": "code",
   "execution_count": 11,
   "metadata": {},
   "outputs": [
    {
     "data": {
      "text/html": [
       "<div>\n",
       "<style scoped>\n",
       "    .dataframe tbody tr th:only-of-type {\n",
       "        vertical-align: middle;\n",
       "    }\n",
       "\n",
       "    .dataframe tbody tr th {\n",
       "        vertical-align: top;\n",
       "    }\n",
       "\n",
       "    .dataframe thead th {\n",
       "        text-align: right;\n",
       "    }\n",
       "</style>\n",
       "<table border=\"1\" class=\"dataframe\">\n",
       "  <thead>\n",
       "    <tr style=\"text-align: right;\">\n",
       "      <th></th>\n",
       "      <th>pce</th>\n",
       "      <th>pop</th>\n",
       "      <th>psavert</th>\n",
       "      <th>uempmed</th>\n",
       "      <th>unemploy</th>\n",
       "    </tr>\n",
       "  </thead>\n",
       "  <tbody>\n",
       "    <tr>\n",
       "      <th>count</th>\n",
       "      <td>574.000000</td>\n",
       "      <td>574.000000</td>\n",
       "      <td>574.000000</td>\n",
       "      <td>574.000000</td>\n",
       "      <td>574.000000</td>\n",
       "    </tr>\n",
       "    <tr>\n",
       "      <th>mean</th>\n",
       "      <td>0.398266</td>\n",
       "      <td>0.801495</td>\n",
       "      <td>0.466858</td>\n",
       "      <td>0.341671</td>\n",
       "      <td>7771.557491</td>\n",
       "    </tr>\n",
       "    <tr>\n",
       "      <th>std</th>\n",
       "      <td>0.294313</td>\n",
       "      <td>0.114466</td>\n",
       "      <td>0.183788</td>\n",
       "      <td>0.163020</td>\n",
       "      <td>2641.960571</td>\n",
       "    </tr>\n",
       "    <tr>\n",
       "      <th>min</th>\n",
       "      <td>0.041722</td>\n",
       "      <td>0.619258</td>\n",
       "      <td>0.111765</td>\n",
       "      <td>0.158730</td>\n",
       "      <td>2685.000000</td>\n",
       "    </tr>\n",
       "    <tr>\n",
       "      <th>25%</th>\n",
       "      <td>0.130101</td>\n",
       "      <td>0.700857</td>\n",
       "      <td>0.323529</td>\n",
       "      <td>0.238095</td>\n",
       "      <td>6284.000000</td>\n",
       "    </tr>\n",
       "    <tr>\n",
       "      <th>50%</th>\n",
       "      <td>0.325087</td>\n",
       "      <td>0.788627</td>\n",
       "      <td>0.452941</td>\n",
       "      <td>0.297619</td>\n",
       "      <td>7494.000000</td>\n",
       "    </tr>\n",
       "    <tr>\n",
       "      <th>75%</th>\n",
       "      <td>0.630459</td>\n",
       "      <td>0.904651</td>\n",
       "      <td>0.617647</td>\n",
       "      <td>0.361111</td>\n",
       "      <td>8691.000000</td>\n",
       "    </tr>\n",
       "    <tr>\n",
       "      <th>max</th>\n",
       "      <td>1.000000</td>\n",
       "      <td>1.000000</td>\n",
       "      <td>1.000000</td>\n",
       "      <td>1.000000</td>\n",
       "      <td>15352.000000</td>\n",
       "    </tr>\n",
       "  </tbody>\n",
       "</table>\n",
       "</div>"
      ],
      "text/plain": [
       "              pce         pop     psavert     uempmed      unemploy\n",
       "count  574.000000  574.000000  574.000000  574.000000    574.000000\n",
       "mean     0.398266    0.801495    0.466858    0.341671   7771.557491\n",
       "std      0.294313    0.114466    0.183788    0.163020   2641.960571\n",
       "min      0.041722    0.619258    0.111765    0.158730   2685.000000\n",
       "25%      0.130101    0.700857    0.323529    0.238095   6284.000000\n",
       "50%      0.325087    0.788627    0.452941    0.297619   7494.000000\n",
       "75%      0.630459    0.904651    0.617647    0.361111   8691.000000\n",
       "max      1.000000    1.000000    1.000000    1.000000  15352.000000"
      ]
     },
     "execution_count": 11,
     "metadata": {},
     "output_type": "execute_result"
    }
   ],
   "source": [
    "df.describe()"
   ]
  },
  {
   "cell_type": "code",
   "execution_count": 14,
   "metadata": {},
   "outputs": [
    {
     "name": "stdout",
     "output_type": "stream",
     "text": [
      "X_train Shape : (459, 4)\n",
      "\n",
      "X_test Shape : (115, 4)\n"
     ]
    }
   ],
   "source": [
    "X = df[feature_cols]\n",
    "\n",
    "y = target\n",
    "\n",
    "X_train, X_test, y_train, y_test = train_test_split(X,y,test_size=0.2,random_state=42)\n",
    "\n",
    "print(f'X_train Shape : {X_train.shape}\\n\\nX_test Shape : {X_test.shape}')"
   ]
  },
  {
   "cell_type": "markdown",
   "metadata": {},
   "source": [
    "### Build a Linear Regression Model"
   ]
  },
  {
   "cell_type": "code",
   "execution_count": 15,
   "metadata": {},
   "outputs": [
    {
     "data": {
      "text/plain": [
       "LinearRegression()"
      ]
     },
     "execution_count": 15,
     "metadata": {},
     "output_type": "execute_result"
    }
   ],
   "source": [
    "lm = LinearRegression()\n",
    "\n",
    "lm.fit(X_train, y_train)"
   ]
  },
  {
   "cell_type": "code",
   "execution_count": 23,
   "metadata": {},
   "outputs": [
    {
     "name": "stdout",
     "output_type": "stream",
     "text": [
      "Training Accuracy\n",
      "RMSE : 985.0285748757371\n",
      "R-Squared : 0.8510879906820179\n",
      "\n",
      "\n",
      "Testing Accuracy\n",
      "RMSE : 1001.9163075939397\n",
      "R-Squared : 0.8854186379903031\n",
      "\n",
      "\n",
      "Coefficients : [-19146.90350229  56970.37011106   5107.93739571  13551.16810809]\n"
     ]
    }
   ],
   "source": [
    "# Training Accuracy - Accuracy wrt the training data\n",
    "\n",
    "y_pred_train = lm.predict(X_train)\n",
    "\n",
    "print('Training Accuracy')\n",
    "\n",
    "print(f'RMSE : {np.sqrt(mean_squared_error(y_train,y_pred_train))}')\n",
    "print(f'R-Squared : {(r2_score(y_train,y_pred_train))}')\n",
    "\n",
    "\n",
    "# Testing Accuracy - Accuracy wrt the testing data\n",
    "\n",
    "y_pred_test = lm.predict(X_test)\n",
    "\n",
    "print('\\n\\nTesting Accuracy')\n",
    "\n",
    "print(f'RMSE : {np.sqrt(mean_squared_error(y_test,y_pred_test))}')\n",
    "print(f'R-Squared : {(r2_score(y_test,y_pred_test))}')\n",
    "\n",
    "print(f'\\n\\nCoefficients : {lm.coef_}')"
   ]
  },
  {
   "cell_type": "code",
   "execution_count": 20,
   "metadata": {},
   "outputs": [
    {
     "data": {
      "text/plain": [
       "2685"
      ]
     },
     "execution_count": 20,
     "metadata": {},
     "output_type": "execute_result"
    }
   ],
   "source": [
    "df['unemploy'].min()"
   ]
  },
  {
   "cell_type": "markdown",
   "metadata": {},
   "source": [
    "## Regularization"
   ]
  },
  {
   "cell_type": "markdown",
   "metadata": {},
   "source": [
    "### Ridge Regression or L2-Norm\n",
    "\n",
    "\n",
    "* Extension of linear regression\n",
    "\n",
    "\n",
    "* In all regularization, we add a loss function\n",
    "\n",
    "\n",
    "* loss function is modified to minimize the complexity of the model\n",
    "\n",
    "\n",
    "* modification is done by introducing a penalty parameter, smoothing parameter, lambda\n",
    "\n",
    "\n",
    "* In Ridge, the smoothing/penalty param / lambda is sum of squared magnitude of coefficients\n",
    "\n",
    "\n",
    "**LOSS FUNCTION = OLS + α (sum of squared coefficient values)**\n",
    "\n",
    "\n",
    "* alpha = smoothing param\n",
    "   * if α = 0, then it becomes simple OLS only\n",
    "   * Low α leads to overfitting\n",
    "   * High α leads to underfitting"
   ]
  },
  {
   "cell_type": "code",
   "execution_count": 26,
   "metadata": {},
   "outputs": [
    {
     "name": "stdout",
     "output_type": "stream",
     "text": [
      "Training Accuracy\n",
      "RMSE : 988.4714111995353\n",
      "R-Squared : 0.8500452277864494\n",
      "\n",
      "\n",
      "Testing Accuracy\n",
      "RMSE : 999.568234828448\n",
      "R-Squared : 0.8859550702424106\n",
      "\n",
      "\n",
      "LM Coefficients : [-19146.90350229  56970.37011106   5107.93739571  13551.16810809]\n",
      "\n",
      "\n",
      "RR Coefficients : [-17406.11927015  51531.47457744   4509.20141652  13654.41294602]\n"
     ]
    }
   ],
   "source": [
    "rr = Ridge(alpha=0.01)\n",
    "\n",
    "rr.fit(X_train,y_train)\n",
    "\n",
    "# Training Accuracy - Accuracy wrt the training data\n",
    "\n",
    "y_pred_train = rr.predict(X_train)\n",
    "\n",
    "print('Training Accuracy')\n",
    "\n",
    "print(f'RMSE : {np.sqrt(mean_squared_error(y_train,y_pred_train))}')\n",
    "print(f'R-Squared : {(r2_score(y_train,y_pred_train))}')\n",
    "\n",
    "\n",
    "# Testing Accuracy - Accuracy wrt the testing data\n",
    "\n",
    "y_pred_test = rr.predict(X_test)\n",
    "\n",
    "print('\\n\\nTesting Accuracy')\n",
    "\n",
    "print(f'RMSE : {np.sqrt(mean_squared_error(y_test,y_pred_test))}')\n",
    "print(f'R-Squared : {(r2_score(y_test,y_pred_test))}')\n",
    "\n",
    "print(f'\\n\\nLM Coefficients : {lm.coef_}')\n",
    "print(f'\\n\\nRR Coefficients : {rr.coef_}')"
   ]
  },
  {
   "cell_type": "markdown",
   "metadata": {},
   "source": [
    "### Lasso Regression or L1-Norm\n",
    "\n",
    "* Lasso - Least absolute shrinkage and selection operator\n",
    "\n",
    "\n",
    "**LOSS FUNCTION = OLS + α (absolute values of magnitude of coefficients)**\n"
   ]
  },
  {
   "cell_type": "code",
   "execution_count": 29,
   "metadata": {},
   "outputs": [
    {
     "data": {
      "text/plain": [
       "Lasso(alpha=0.001)"
      ]
     },
     "execution_count": 29,
     "metadata": {},
     "output_type": "execute_result"
    }
   ],
   "source": [
    "lsm = Lasso(alpha=0.001)\n",
    "\n",
    "lsm.fit(X_train,y_train)"
   ]
  },
  {
   "cell_type": "code",
   "execution_count": 30,
   "metadata": {},
   "outputs": [
    {
     "name": "stdout",
     "output_type": "stream",
     "text": [
      "Training Accuracy\n",
      "RMSE : 985.0285793909923\n",
      "R-Squared : 0.8510879893168277\n",
      "\n",
      "\n",
      "Testing Accuracy\n",
      "RMSE : 1001.9110813423042\n",
      "R-Squared : 0.8854198333585475\n",
      "\n",
      "\n",
      "LM Coefficients : [-19146.90350229  56970.37011106   5107.93739571  13551.16810809]\n",
      "\n",
      "\n",
      "RR Coefficients : [-17406.11927015  51531.47457744   4509.20141652  13654.41294602]\n",
      "\n",
      "\n",
      "LSM Coefficients : [-19144.90151453  56964.19811383   5107.24474545  13551.21639753]\n"
     ]
    }
   ],
   "source": [
    "# Training Accuracy - Accuracy wrt the training data\n",
    "\n",
    "y_pred_train = lsm.predict(X_train)\n",
    "\n",
    "print('Training Accuracy')\n",
    "\n",
    "print(f'RMSE : {np.sqrt(mean_squared_error(y_train,y_pred_train))}')\n",
    "print(f'R-Squared : {(r2_score(y_train,y_pred_train))}')\n",
    "\n",
    "\n",
    "# Testing Accuracy - Accuracy wrt the testing data\n",
    "\n",
    "y_pred_test = lsm.predict(X_test)\n",
    "\n",
    "print('\\n\\nTesting Accuracy')\n",
    "\n",
    "print(f'RMSE : {np.sqrt(mean_squared_error(y_test,y_pred_test))}')\n",
    "print(f'R-Squared : {(r2_score(y_test,y_pred_test))}')\n",
    "\n",
    "print(f'\\n\\nLM Coefficients : {lm.coef_}')\n",
    "print(f'\\n\\nRR Coefficients : {rr.coef_}')\n",
    "print(f'\\n\\nLSM Coefficients : {lsm.coef_}')\n"
   ]
  },
  {
   "cell_type": "markdown",
   "metadata": {},
   "source": [
    "**Lasso regression is used for feature selection because coefficients of less important/significant variables are reduced to zero.**"
   ]
  },
  {
   "cell_type": "markdown",
   "metadata": {},
   "source": [
    "### Elasticnet regression\n",
    "\n",
    "Combines both L1 and L2 normalization"
   ]
  },
  {
   "cell_type": "code",
   "execution_count": 32,
   "metadata": {},
   "outputs": [
    {
     "data": {
      "text/plain": [
       "ElasticNet()"
      ]
     },
     "execution_count": 32,
     "metadata": {},
     "output_type": "execute_result"
    }
   ],
   "source": [
    "en = ElasticNet()\n",
    "\n",
    "en.fit(X_train,y_train)"
   ]
  },
  {
   "cell_type": "code",
   "execution_count": 33,
   "metadata": {},
   "outputs": [
    {
     "name": "stdout",
     "output_type": "stream",
     "text": [
      "Training Accuracy\n",
      "RMSE : 2331.4927412156394\n",
      "R-Squared : 0.16574234437779267\n",
      "\n",
      "\n",
      "Testing Accuracy\n",
      "RMSE : 2690.6795263008275\n",
      "R-Squared : 0.17362905746232427\n",
      "\n",
      "\n",
      "LM Coefficients : [-19146.90350229  56970.37011106   5107.93739571  13551.16810809]\n",
      "\n",
      "\n",
      "RR Coefficients : [-17406.11927015  51531.47457744   4509.20141652  13654.41294602]\n",
      "\n",
      "\n",
      "LSM Coefficients : [-19144.90151453  56964.19811383   5107.24474545  13551.21639753]\n",
      "\n",
      "\n",
      "EN Coefficients : [ 697.72334777  284.66132963 -207.46899075  594.21973384]\n"
     ]
    }
   ],
   "source": [
    "# Training Accuracy - Accuracy wrt the training data\n",
    "\n",
    "y_pred_train = en.predict(X_train)\n",
    "\n",
    "print('Training Accuracy')\n",
    "\n",
    "print(f'RMSE : {np.sqrt(mean_squared_error(y_train,y_pred_train))}')\n",
    "print(f'R-Squared : {(r2_score(y_train,y_pred_train))}')\n",
    "\n",
    "\n",
    "# Testing Accuracy - Accuracy wrt the testing data\n",
    "\n",
    "y_pred_test = en.predict(X_test)\n",
    "\n",
    "print('\\n\\nTesting Accuracy')\n",
    "\n",
    "print(f'RMSE : {np.sqrt(mean_squared_error(y_test,y_pred_test))}')\n",
    "print(f'R-Squared : {(r2_score(y_test,y_pred_test))}')\n",
    "\n",
    "print(f'\\n\\nLM Coefficients : {lm.coef_}')\n",
    "print(f'\\n\\nRR Coefficients : {rr.coef_}')\n",
    "print(f'\\n\\nLSM Coefficients : {lsm.coef_}')\n",
    "print(f'\\n\\nEN Coefficients : {en.coef_}')\n"
   ]
  },
  {
   "cell_type": "markdown",
   "metadata": {},
   "source": [
    "* Ridge works well when there are many large parameters of similar value\n",
    "\n",
    "\n",
    "* Lasso works well when there are small number of significant parameters and coefficients of others are close to zero"
   ]
  },
  {
   "cell_type": "markdown",
   "metadata": {},
   "source": [
    "#### How to select value of alpha"
   ]
  },
  {
   "cell_type": "code",
   "execution_count": 36,
   "metadata": {},
   "outputs": [
    {
     "name": "stdout",
     "output_type": "stream",
     "text": [
      "Training Accuracy\n",
      "RMSE : 985.0698654882659\n",
      "R-Squared : 0.851075506177294\n",
      "\n",
      "\n",
      "Testing Accuracy\n",
      "RMSE : 1001.3938353306316\n",
      "R-Squared : 0.8855381089959089\n",
      "\n",
      "\n",
      "LM Coefficients : [-19146.90350229  56970.37011106   5107.93739571  13551.16810809]\n",
      "\n",
      "\n",
      "RR Coefficients : [-17406.11927015  51531.47457744   4509.20141652  13654.41294602]\n",
      "\n",
      "\n",
      "LSM Coefficients : [-19144.90151453  56964.19811383   5107.24474545  13551.21639753]\n",
      "\n",
      "\n",
      "EN Coefficients : [ 697.72334777  284.66132963 -207.46899075  594.21973384]\n",
      "\n",
      "\n",
      "RRCV Coefficients : [-18956.71195945  56375.07461522   5042.08225953  13562.90637798]\n",
      "\n",
      "\n",
      "Best Value of Alpha : 0.001\n"
     ]
    }
   ],
   "source": [
    "from sklearn.linear_model import LassoCV, RidgeCV, ElasticNetCV\n",
    "\n",
    "rrcv = RidgeCV(alphas=[0.001,0.01,0.1,1,10])\n",
    "\n",
    "rrcv.fit(X_train,y_train)\n",
    "\n",
    "# Training Accuracy - Accuracy wrt the training data\n",
    "\n",
    "y_pred_train = rrcv.predict(X_train)\n",
    "\n",
    "print('Training Accuracy')\n",
    "\n",
    "print(f'RMSE : {np.sqrt(mean_squared_error(y_train,y_pred_train))}')\n",
    "print(f'R-Squared : {(r2_score(y_train,y_pred_train))}')\n",
    "\n",
    "\n",
    "# Testing Accuracy - Accuracy wrt the testing data\n",
    "\n",
    "y_pred_test = rrcv.predict(X_test)\n",
    "\n",
    "print('\\n\\nTesting Accuracy')\n",
    "\n",
    "print(f'RMSE : {np.sqrt(mean_squared_error(y_test,y_pred_test))}')\n",
    "print(f'R-Squared : {(r2_score(y_test,y_pred_test))}')\n",
    "\n",
    "print(f'\\n\\nLM Coefficients : {lm.coef_}')\n",
    "print(f'\\n\\nRR Coefficients : {rr.coef_}')\n",
    "print(f'\\n\\nLSM Coefficients : {lsm.coef_}')\n",
    "print(f'\\n\\nEN Coefficients : {en.coef_}')\n",
    "print(f'\\n\\nRRCV Coefficients : {rrcv.coef_}')\n",
    "print(f'\\n\\nBest Value of Alpha : {rrcv.alpha_}')"
   ]
  },
  {
   "cell_type": "markdown",
   "metadata": {},
   "source": [
    "# Great Job !"
   ]
  }
 ],
 "metadata": {
  "kernelspec": {
   "display_name": "Python 3",
   "language": "python",
   "name": "python3"
  },
  "language_info": {
   "codemirror_mode": {
    "name": "ipython",
    "version": 3
   },
   "file_extension": ".py",
   "mimetype": "text/x-python",
   "name": "python",
   "nbconvert_exporter": "python",
   "pygments_lexer": "ipython3",
   "version": "3.8.3"
  }
 },
 "nbformat": 4,
 "nbformat_minor": 4
}
