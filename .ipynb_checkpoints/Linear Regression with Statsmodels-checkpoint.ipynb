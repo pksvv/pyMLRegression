{
 "cells": [
  {
   "cell_type": "markdown",
   "metadata": {},
   "source": [
    "## Predicting house price using Statsmodels"
   ]
  },
  {
   "cell_type": "markdown",
   "metadata": {},
   "source": [
    "Linear Regression : model that predicts relationship of direct proportionality between dependent variable and predictor variables.\n",
    "\n",
    "<img src=\"img/1.png\">"
   ]
  },
  {
   "cell_type": "markdown",
   "metadata": {},
   "source": [
    "### Dataset\n",
    "\n",
    "#### Target Variable\n",
    "* HPI - Housing price index - measures the price changes of residential housing\n",
    "\n",
    "#### Predictor Variable\n",
    "* Macroeconomic Activities\n",
    "    * GDP\n",
    "    * Unemployment\n",
    "    * Interest Rates\n",
    "    \n",
    "# Source : FRED \n",
    "https://fred.stlouisfed.org/"
   ]
  },
  {
   "cell_type": "code",
   "execution_count": 3,
   "metadata": {},
   "outputs": [
    {
     "name": "stdout",
     "output_type": "stream",
     "text": [
      "Requirement already satisfied: statsmodels in /opt/anaconda3/lib/python3.8/site-packages (0.11.1)\n",
      "Requirement already satisfied: scipy>=1.0 in /opt/anaconda3/lib/python3.8/site-packages (from statsmodels) (1.5.0)\n",
      "Requirement already satisfied: patsy>=0.5 in /opt/anaconda3/lib/python3.8/site-packages (from statsmodels) (0.5.1)\n",
      "Requirement already satisfied: pandas>=0.21 in /opt/anaconda3/lib/python3.8/site-packages (from statsmodels) (1.0.5)\n",
      "Requirement already satisfied: numpy>=1.14 in /opt/anaconda3/lib/python3.8/site-packages (from statsmodels) (1.18.5)\n",
      "Requirement already satisfied: six in /opt/anaconda3/lib/python3.8/site-packages (from patsy>=0.5->statsmodels) (1.15.0)\n",
      "Requirement already satisfied: pytz>=2017.2 in /opt/anaconda3/lib/python3.8/site-packages (from pandas>=0.21->statsmodels) (2020.1)\n",
      "Requirement already satisfied: python-dateutil>=2.6.1 in /opt/anaconda3/lib/python3.8/site-packages (from pandas>=0.21->statsmodels) (2.8.1)\n"
     ]
    }
   ],
   "source": [
    "!pip install statsmodels"
   ]
  },
  {
   "cell_type": "markdown",
   "metadata": {},
   "source": [
    "## Importing libraries"
   ]
  },
  {
   "cell_type": "code",
   "execution_count": 4,
   "metadata": {},
   "outputs": [
    {
     "name": "stderr",
     "output_type": "stream",
     "text": [
      "<frozen importlib._bootstrap>:219: RuntimeWarning: numpy.ufunc size changed, may indicate binary incompatibility. Expected 192 from C header, got 216 from PyObject\n"
     ]
    }
   ],
   "source": [
    "import pandas as pd\n",
    "import numpy as np\n",
    "import matplotlib.pyplot as plt\n",
    "import seaborn as sns\n",
    "\n",
    "import statsmodels.api as sm\n",
    "from statsmodels.formula.api import ols\n",
    "from statsmodels.sandbox.regression.predstd import wls_prediction_std\n",
    "\n",
    "sns.set_style('darkgrid')\n",
    "%matplotlib inline"
   ]
  },
  {
   "cell_type": "markdown",
   "metadata": {},
   "source": [
    "## Import Data"
   ]
  },
  {
   "cell_type": "code",
   "execution_count": 5,
   "metadata": {},
   "outputs": [],
   "source": [
    "hpi = pd.read_csv('dataset/monthly-hpi.csv')\n",
    "uemp = pd.read_csv('dataset/unemployment-macro.csv')\n",
    "ffr = pd.read_csv('dataset/fed_funds.csv')\n",
    "shiller = pd.read_csv('dataset/shiller.csv')\n",
    "gdp = pd.read_csv('dataset/gdp.csv')"
   ]
  },
  {
   "cell_type": "code",
   "execution_count": 6,
   "metadata": {},
   "outputs": [
    {
     "data": {
      "text/html": [
       "<div>\n",
       "<style scoped>\n",
       "    .dataframe tbody tr th:only-of-type {\n",
       "        vertical-align: middle;\n",
       "    }\n",
       "\n",
       "    .dataframe tbody tr th {\n",
       "        vertical-align: top;\n",
       "    }\n",
       "\n",
       "    .dataframe thead th {\n",
       "        text-align: right;\n",
       "    }\n",
       "</style>\n",
       "<table border=\"1\" class=\"dataframe\">\n",
       "  <thead>\n",
       "    <tr style=\"text-align: right;\">\n",
       "      <th></th>\n",
       "      <th>date</th>\n",
       "      <th>sp500</th>\n",
       "      <th>consumer_price_index</th>\n",
       "      <th>long_interest_rate</th>\n",
       "      <th>housing_price_index</th>\n",
       "      <th>total_unemployed</th>\n",
       "      <th>more_than_15_weeks</th>\n",
       "      <th>not_in_labor_searched_for_work</th>\n",
       "      <th>multi_jobs</th>\n",
       "      <th>leavers</th>\n",
       "      <th>losers</th>\n",
       "      <th>federal_funds_rate</th>\n",
       "      <th>total_expenditures</th>\n",
       "      <th>labor_force_pr</th>\n",
       "      <th>producer_price_index</th>\n",
       "      <th>gross_domestic_product</th>\n",
       "    </tr>\n",
       "  </thead>\n",
       "  <tbody>\n",
       "    <tr>\n",
       "      <th>0</th>\n",
       "      <td>2011-01-01</td>\n",
       "      <td>1282.62</td>\n",
       "      <td>220.22</td>\n",
       "      <td>3.39</td>\n",
       "      <td>181.35</td>\n",
       "      <td>16.2</td>\n",
       "      <td>8393</td>\n",
       "      <td>2800</td>\n",
       "      <td>6816</td>\n",
       "      <td>6.5</td>\n",
       "      <td>60.1</td>\n",
       "      <td>0.17</td>\n",
       "      <td>5766.7</td>\n",
       "      <td>64.2</td>\n",
       "      <td>192.7</td>\n",
       "      <td>14881.3</td>\n",
       "    </tr>\n",
       "    <tr>\n",
       "      <th>1</th>\n",
       "      <td>2011-04-01</td>\n",
       "      <td>1331.51</td>\n",
       "      <td>224.91</td>\n",
       "      <td>3.46</td>\n",
       "      <td>180.80</td>\n",
       "      <td>16.1</td>\n",
       "      <td>8016</td>\n",
       "      <td>2466</td>\n",
       "      <td>6823</td>\n",
       "      <td>6.8</td>\n",
       "      <td>59.4</td>\n",
       "      <td>0.10</td>\n",
       "      <td>5870.8</td>\n",
       "      <td>64.2</td>\n",
       "      <td>203.1</td>\n",
       "      <td>14989.6</td>\n",
       "    </tr>\n",
       "    <tr>\n",
       "      <th>2</th>\n",
       "      <td>2011-07-01</td>\n",
       "      <td>1325.19</td>\n",
       "      <td>225.92</td>\n",
       "      <td>3.00</td>\n",
       "      <td>184.25</td>\n",
       "      <td>15.9</td>\n",
       "      <td>8177</td>\n",
       "      <td>2785</td>\n",
       "      <td>6850</td>\n",
       "      <td>6.8</td>\n",
       "      <td>59.2</td>\n",
       "      <td>0.07</td>\n",
       "      <td>5802.6</td>\n",
       "      <td>64.0</td>\n",
       "      <td>204.6</td>\n",
       "      <td>15021.1</td>\n",
       "    </tr>\n",
       "    <tr>\n",
       "      <th>3</th>\n",
       "      <td>2011-10-01</td>\n",
       "      <td>1207.22</td>\n",
       "      <td>226.42</td>\n",
       "      <td>2.15</td>\n",
       "      <td>181.51</td>\n",
       "      <td>15.8</td>\n",
       "      <td>7802</td>\n",
       "      <td>2555</td>\n",
       "      <td>6917</td>\n",
       "      <td>8.0</td>\n",
       "      <td>57.9</td>\n",
       "      <td>0.07</td>\n",
       "      <td>5812.9</td>\n",
       "      <td>64.1</td>\n",
       "      <td>201.1</td>\n",
       "      <td>15190.3</td>\n",
       "    </tr>\n",
       "    <tr>\n",
       "      <th>4</th>\n",
       "      <td>2012-01-01</td>\n",
       "      <td>1300.58</td>\n",
       "      <td>226.66</td>\n",
       "      <td>1.97</td>\n",
       "      <td>179.13</td>\n",
       "      <td>15.2</td>\n",
       "      <td>7433</td>\n",
       "      <td>2809</td>\n",
       "      <td>7022</td>\n",
       "      <td>7.4</td>\n",
       "      <td>57.1</td>\n",
       "      <td>0.08</td>\n",
       "      <td>5765.7</td>\n",
       "      <td>63.7</td>\n",
       "      <td>200.7</td>\n",
       "      <td>15291.0</td>\n",
       "    </tr>\n",
       "  </tbody>\n",
       "</table>\n",
       "</div>"
      ],
      "text/plain": [
       "         date    sp500  ...  producer_price_index  gross_domestic_product\n",
       "0  2011-01-01  1282.62  ...                 192.7                 14881.3\n",
       "1  2011-04-01  1331.51  ...                 203.1                 14989.6\n",
       "2  2011-07-01  1325.19  ...                 204.6                 15021.1\n",
       "3  2011-10-01  1207.22  ...                 201.1                 15190.3\n",
       "4  2012-01-01  1300.58  ...                 200.7                 15291.0\n",
       "\n",
       "[5 rows x 16 columns]"
      ]
     },
     "execution_count": 6,
     "metadata": {},
     "output_type": "execute_result"
    }
   ],
   "source": [
    "# merging all the above dataframes into a single dataframe\n",
    "\n",
    "df = (shiller.merge(hpi,on='date')\n",
    "      .merge(uemp,on='date')\n",
    "      .merge(ffr,on='date')\n",
    "      .merge(gdp,on='date'))\n",
    "\n",
    "df.head()"
   ]
  },
  {
   "cell_type": "markdown",
   "metadata": {},
   "source": [
    "## EDA : Exploratory Data Analysis\n",
    "\n",
    "* Plotting\n",
    "* Descriptive Statistics\n",
    "* **AIM : Figure out the best predictors for our dependent variable**"
   ]
  },
  {
   "cell_type": "markdown",
   "metadata": {},
   "source": [
    "## OLS : Ordinary Least Square\n",
    "\n",
    "***OLS is a statistical method that helps estimate the relationship between independent and dependent variables by minimising the sum of squares in the diff b/w observed and predicted values***"
   ]
  },
  {
   "cell_type": "markdown",
   "metadata": {},
   "source": [
    "### Assumptions\n",
    "\n",
    "1. Linearity : \n",
    "    * dep and indep variables have linear relationship\n",
    "\n",
    "\n",
    "2. No multicollinearity : \n",
    "    * independent variables are not correlated to each other\n",
    "    * if predictors are highly correlated, then removing them shouldn't drastically reduce Adj. R-squared\n",
    "    \n",
    "\n",
    "3. Zero conditional mean : \n",
    "    * Average of distances i.e. the residuals between observations and trend line is Zero.\n",
    "    \n",
    "\n",
    "4. Homoskedasticity :\n",
    "    * Variance is constant\n",
    "    * No pattern in residuals\n",
    "   \n",
    "   \n",
    "5. No Autocorrelation :\n",
    "    * Autocorrelation is when a variable is correlated w itself across observations."
   ]
  },
  {
   "cell_type": "markdown",
   "metadata": {},
   "source": [
    "## Simple linear regression - only 1 predictor and 1 target variable"
   ]
  },
  {
   "cell_type": "code",
   "execution_count": 8,
   "metadata": {},
   "outputs": [
    {
     "data": {
      "text/plain": [
       "Index(['date', 'sp500', 'consumer_price_index', 'long_interest_rate',\n",
       "       'housing_price_index', 'total_unemployed', 'more_than_15_weeks',\n",
       "       'not_in_labor_searched_for_work', 'multi_jobs', 'leavers', 'losers',\n",
       "       'federal_funds_rate', 'total_expenditures', 'labor_force_pr',\n",
       "       'producer_price_index', 'gross_domestic_product'],\n",
       "      dtype='object')"
      ]
     },
     "execution_count": 8,
     "metadata": {},
     "output_type": "execute_result"
    }
   ],
   "source": [
    "df.columns"
   ]
  },
  {
   "cell_type": "code",
   "execution_count": 9,
   "metadata": {},
   "outputs": [],
   "source": [
    "housing_model = ols('housing_price_index ~ total_unemployed',data=df).fit()\n",
    "\n",
    "housing_model_summary = housing_model.summary()"
   ]
  },
  {
   "cell_type": "code",
   "execution_count": 10,
   "metadata": {},
   "outputs": [
    {
     "data": {
      "text/html": [
       "<table class=\"simpletable\">\n",
       "<caption>OLS Regression Results</caption>\n",
       "<tr>\n",
       "  <th>Dep. Variable:</th>    <td>housing_price_index</td> <th>  R-squared:         </th> <td>   0.952</td>\n",
       "</tr>\n",
       "<tr>\n",
       "  <th>Model:</th>                    <td>OLS</td>         <th>  Adj. R-squared:    </th> <td>   0.949</td>\n",
       "</tr>\n",
       "<tr>\n",
       "  <th>Method:</th>              <td>Least Squares</td>    <th>  F-statistic:       </th> <td>   413.2</td>\n",
       "</tr>\n",
       "<tr>\n",
       "  <th>Date:</th>              <td>Sun, 13 Sep 2020</td>   <th>  Prob (F-statistic):</th> <td>2.71e-15</td>\n",
       "</tr>\n",
       "<tr>\n",
       "  <th>Time:</th>                  <td>11:38:05</td>       <th>  Log-Likelihood:    </th> <td> -65.450</td>\n",
       "</tr>\n",
       "<tr>\n",
       "  <th>No. Observations:</th>       <td>    23</td>        <th>  AIC:               </th> <td>   134.9</td>\n",
       "</tr>\n",
       "<tr>\n",
       "  <th>Df Residuals:</th>           <td>    21</td>        <th>  BIC:               </th> <td>   137.2</td>\n",
       "</tr>\n",
       "<tr>\n",
       "  <th>Df Model:</th>               <td>     1</td>        <th>                     </th>     <td> </td>   \n",
       "</tr>\n",
       "<tr>\n",
       "  <th>Covariance Type:</th>       <td>nonrobust</td>      <th>                     </th>     <td> </td>   \n",
       "</tr>\n",
       "</table>\n",
       "<table class=\"simpletable\">\n",
       "<tr>\n",
       "          <td></td>            <th>coef</th>     <th>std err</th>      <th>t</th>      <th>P>|t|</th>  <th>[0.025</th>    <th>0.975]</th>  \n",
       "</tr>\n",
       "<tr>\n",
       "  <th>Intercept</th>        <td>  313.3128</td> <td>    5.408</td> <td>   57.938</td> <td> 0.000</td> <td>  302.067</td> <td>  324.559</td>\n",
       "</tr>\n",
       "<tr>\n",
       "  <th>total_unemployed</th> <td>   -8.3324</td> <td>    0.410</td> <td>  -20.327</td> <td> 0.000</td> <td>   -9.185</td> <td>   -7.480</td>\n",
       "</tr>\n",
       "</table>\n",
       "<table class=\"simpletable\">\n",
       "<tr>\n",
       "  <th>Omnibus:</th>       <td> 0.492</td> <th>  Durbin-Watson:     </th> <td>   1.126</td>\n",
       "</tr>\n",
       "<tr>\n",
       "  <th>Prob(Omnibus):</th> <td> 0.782</td> <th>  Jarque-Bera (JB):  </th> <td>   0.552</td>\n",
       "</tr>\n",
       "<tr>\n",
       "  <th>Skew:</th>          <td> 0.294</td> <th>  Prob(JB):          </th> <td>   0.759</td>\n",
       "</tr>\n",
       "<tr>\n",
       "  <th>Kurtosis:</th>      <td> 2.521</td> <th>  Cond. No.          </th> <td>    78.9</td>\n",
       "</tr>\n",
       "</table><br/><br/>Warnings:<br/>[1] Standard Errors assume that the covariance matrix of the errors is correctly specified."
      ],
      "text/plain": [
       "<class 'statsmodels.iolib.summary.Summary'>\n",
       "\"\"\"\n",
       "                             OLS Regression Results                            \n",
       "===============================================================================\n",
       "Dep. Variable:     housing_price_index   R-squared:                       0.952\n",
       "Model:                             OLS   Adj. R-squared:                  0.949\n",
       "Method:                  Least Squares   F-statistic:                     413.2\n",
       "Date:                 Sun, 13 Sep 2020   Prob (F-statistic):           2.71e-15\n",
       "Time:                         11:38:05   Log-Likelihood:                -65.450\n",
       "No. Observations:                   23   AIC:                             134.9\n",
       "Df Residuals:                       21   BIC:                             137.2\n",
       "Df Model:                            1                                         \n",
       "Covariance Type:             nonrobust                                         \n",
       "====================================================================================\n",
       "                       coef    std err          t      P>|t|      [0.025      0.975]\n",
       "------------------------------------------------------------------------------------\n",
       "Intercept          313.3128      5.408     57.938      0.000     302.067     324.559\n",
       "total_unemployed    -8.3324      0.410    -20.327      0.000      -9.185      -7.480\n",
       "==============================================================================\n",
       "Omnibus:                        0.492   Durbin-Watson:                   1.126\n",
       "Prob(Omnibus):                  0.782   Jarque-Bera (JB):                0.552\n",
       "Skew:                           0.294   Prob(JB):                        0.759\n",
       "Kurtosis:                       2.521   Cond. No.                         78.9\n",
       "==============================================================================\n",
       "\n",
       "Warnings:\n",
       "[1] Standard Errors assume that the covariance matrix of the errors is correctly specified.\n",
       "\"\"\""
      ]
     },
     "execution_count": 10,
     "metadata": {},
     "output_type": "execute_result"
    }
   ],
   "source": [
    "housing_model_summary"
   ]
  },
  {
   "cell_type": "markdown",
   "metadata": {},
   "source": [
    "### Accuracy Metrics\n",
    "\n",
    "\n",
    "* **RMSE - The lower the better**\n",
    "\n",
    "\n",
    "* **R-squared - proportion of variance of a dependent variable explained by an independent variable or variables in a regression model. Higher the R-squared the better**\n",
    "\n",
    "\n",
    "* **Adj-R-squared - this metric compensates the addition of variables. It only increases when the new independent variable is enhancing the model - i.e. it is significant. It will decrease if the model contains non-significant variables. Adj-R-Squared <= R-squared**"
   ]
  },
  {
   "cell_type": "markdown",
   "metadata": {},
   "source": [
    "* Adj. R-squared : 0.95 - 95% of housing prices can be explained by our predictor var. (total_unemployed)\n",
    "\n",
    "\n",
    "* Regression Coefficients (coef) : \n",
    "    * Intercept\t: 313.3128\n",
    "    * total_unemployed\t: -8.3324\n",
    "    * housing_price_index = -8.3324 * total_unemployed + 313.3128 { y = -8.3324 x + 313.3128}\n",
    "    * Given all other factors constant, 1 unit change in total_unemployed will lead to -8.33 reduction in hpi.\n",
    "    \n",
    "\n",
    "* Standard Error : Measure of accuracy. Estimates the variation of coefficient if same test were run on a different sample. Std err - 0.41 pretty low\n",
    "\n",
    "\n",
    "* p-value : \n",
    "    * p-val < 0.05 - significant\n",
    "    * p-val >= 0.05 - not significant\n",
    "    \n",
    "\n",
    "* Confidence Interval : \n",
    "    * Range within whicch our coefficient is likely to fall.\n",
    "    * We can be 95% confident that total_unemployed coefficient will be within the range or confidence interval [-9.185, -7.480]\n",
    "    \n",
    "\n",
    "* Durbin-Watson :\t1.126\n",
    "    * Gives measure of autocorrelation\n",
    "    * Not be under 1 or over 3\n",
    "    \n",
    "\n",
    "* F-statistic:\t413.2\n",
    "    * overall significance of linear regression model\n",
    "    * Prob (F-statistic):\t2.71e-15 ???"
   ]
  },
  {
   "cell_type": "markdown",
   "metadata": {},
   "source": [
    "### Regression plots"
   ]
  },
  {
   "cell_type": "code",
   "execution_count": 11,
   "metadata": {},
   "outputs": [
    {
     "data": {
      "image/png": "[encoded data removed]",
      "text/plain": [
       "<Figure size 1080x576 with 4 Axes>"
      ]
     },
     "metadata": {
      "needs_background": "light"
     },
     "output_type": "display_data"
    }
   ],
   "source": [
    "fig = plt.figure(figsize=(15,8))\n",
    "\n",
    "fig = sm.graphics.plot_regress_exog(housing_model,\"total_unemployed\",fig=fig)"
   ]
  },
  {
   "cell_type": "markdown",
   "metadata": {},
   "source": [
    "* **Y and Fitted vs X** - plots the dependent variable against our predicted values with a confidence interval\n",
    "\n",
    "\n",
    "* **Residual vs Total unemployed** - Look out for pattern, if there is a pattern then the assumption of homoskedasticity is violated.\n",
    "\n",
    "\n",
    "* **Partical Regression Plot** - Relationship between hpi and total_uep - it also takes into account other independent variable.\n",
    "\n",
    "\n",
    "* **CCPR - Component and component plus residual plot** - It is an extension of partial regression plot"
   ]
  },
  {
   "cell_type": "code",
   "execution_count": 12,
   "metadata": {},
   "outputs": [
    {
     "data": {
      "text/plain": [
       "<matplotlib.legend.Legend at 0x1066c91f0>"
      ]
     },
     "execution_count": 12,
     "metadata": {},
     "output_type": "execute_result"
    },
    {
     "data": {
      "image/png": "[encoded data removed]",
      "text/plain": [
       "<Figure size 720x648 with 1 Axes>"
      ]
     },
     "metadata": {
      "needs_background": "light"
     },
     "output_type": "display_data"
    }
   ],
   "source": [
    "x = df['total_unemployed']\n",
    "y = df['housing_price_index']\n",
    "\n",
    "# wls_prediction_std\n",
    "\n",
    "_,confidence_interval_low,confidence_interval_up = wls_prediction_std(housing_model)\n",
    "\n",
    "fig, ax = plt.subplots(figsize=(10,9))\n",
    "\n",
    "\n",
    "ax.plot(x,y,'d',label='data')\n",
    "\n",
    "ax.plot(x,confidence_interval_up,'r--')\n",
    "\n",
    "ax.plot(x,confidence_interval_low,'r--')\n",
    "\n",
    "ax.legend(loc='best')"
   ]
  },
  {
   "cell_type": "markdown",
   "metadata": {},
   "source": [
    "## Multiple linear regression"
   ]
  },
  {
   "cell_type": "markdown",
   "metadata": {},
   "source": [
    "* consumer_price_index\n",
    "\n",
    "\n",
    "* long_interest_rate\n",
    "\n",
    "\n",
    "* gross_domestic_product\n",
    "\n",
    "\n",
    "* total_unemployed\n",
    "\n",
    "\n",
    "* federal_funds_rate"
   ]
  },
  {
   "cell_type": "code",
   "execution_count": null,
   "metadata": {},
   "outputs": [],
   "source": []
  },
  {
   "cell_type": "code",
   "execution_count": null,
   "metadata": {},
   "outputs": [],
   "source": []
  },
  {
   "cell_type": "code",
   "execution_count": null,
   "metadata": {},
   "outputs": [],
   "source": []
  },
  {
   "cell_type": "code",
   "execution_count": null,
   "metadata": {},
   "outputs": [],
   "source": []
  },
  {
   "cell_type": "code",
   "execution_count": null,
   "metadata": {},
   "outputs": [],
   "source": []
  },
  {
   "cell_type": "code",
   "execution_count": null,
   "metadata": {},
   "outputs": [],
   "source": []
  },
  {
   "cell_type": "code",
   "execution_count": null,
   "metadata": {},
   "outputs": [],
   "source": []
  },
  {
   "cell_type": "code",
   "execution_count": null,
   "metadata": {},
   "outputs": [],
   "source": []
  },
  {
   "cell_type": "code",
   "execution_count": null,
   "metadata": {},
   "outputs": [],
   "source": []
  },
  {
   "cell_type": "code",
   "execution_count": null,
   "metadata": {},
   "outputs": [],
   "source": []
  },
  {
   "cell_type": "code",
   "execution_count": null,
   "metadata": {},
   "outputs": [],
   "source": []
  },
  {
   "cell_type": "code",
   "execution_count": null,
   "metadata": {},
   "outputs": [],
   "source": []
  },
  {
   "cell_type": "code",
   "execution_count": null,
   "metadata": {},
   "outputs": [],
   "source": []
  },
  {
   "cell_type": "code",
   "execution_count": null,
   "metadata": {},
   "outputs": [],
   "source": []
  },
  {
   "cell_type": "markdown",
   "metadata": {},
   "source": [
    "## Combining different DF\n",
    "\n",
    "* Concatenate\n",
    "    * Concatenates df along row (axis=0) or col (axis=1)\n",
    "    * Think of it as stacking up of different df\n",
    "\n",
    "* Merge\n",
    "    * Combine basis the values of shared columns\n",
    "    * based on a condition\n",
    "    * Example\n",
    "        * Movie Details - crew, movieid, cast\n",
    "        * Movie rating - movie id, movie desc, movie rating\n",
    "        * Merge these 2 datasets on movie_id\n",
    "\n",
    "* Join\n",
    "    * extension of concat, join as a param to concat method\n",
    "    * Outer\n",
    "        * Takes all indices - default\n",
    "    * Inner\n",
    "        * Takes shared indices"
   ]
  }
 ],
 "metadata": {
  "kernelspec": {
   "display_name": "Python 3",
   "language": "python",
   "name": "python3"
  },
  "language_info": {
   "codemirror_mode": {
    "name": "ipython",
    "version": 3
   },
   "file_extension": ".py",
   "mimetype": "text/x-python",
   "name": "python",
   "nbconvert_exporter": "python",
   "pygments_lexer": "ipython3",
   "version": "3.8.3"
  }
 },
 "nbformat": 4,
 "nbformat_minor": 4
}
